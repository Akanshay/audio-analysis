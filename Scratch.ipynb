{
 "metadata": {
  "name": "Scratch"
 },
 "nbformat": 3,
 "nbformat_minor": 0,
 "worksheets": [
  {
   "cells": [
    {
     "cell_type": "code",
     "collapsed": false,
     "input": [
      "for n,i in enumerate(range(0, 20, 2)):\n",
      "    print \"n = %d, i = %d\" % (n,i)"
     ],
     "language": "python",
     "metadata": {},
     "outputs": [
      {
       "output_type": "stream",
       "stream": "stdout",
       "text": [
        "n = 0, i = 0\n",
        "n = 1, i = 2\n",
        "n = 2, i = 4\n",
        "n = 3, i = 6\n",
        "n = 4, i = 8\n",
        "n = 5, i = 10\n",
        "n = 6, i = 12\n",
        "n = 7, i = 14\n",
        "n = 8, i = 16\n",
        "n = 9, i = 18\n"
       ]
      }
     ],
     "prompt_number": 2
    },
    {
     "cell_type": "code",
     "collapsed": false,
     "input": [],
     "language": "python",
     "metadata": {},
     "outputs": []
    }
   ],
   "metadata": {}
  }
 ]
}