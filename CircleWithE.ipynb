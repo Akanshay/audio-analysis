{
 "metadata": {
  "name": "CircleWithE"
 },
 "nbformat": 3,
 "nbformat_minor": 0,
 "worksheets": [
  {
   "cells": [
    {
     "cell_type": "code",
     "collapsed": false,
     "input": [
      "import cmath\n",
      "\n",
      "angle = numpy.linspace(0, 2*math.pi, 32)\n",
      "\n",
      "def generate_point(complex_num):\n",
      "    return (complex_num.real, complex_num.imag)\n",
      "\n",
      "def get_x_y(points):\n",
      "    x = []\n",
      "    y = []\n",
      "    for p in points:\n",
      "        x.append(p[0])\n",
      "        y.append(p[1])\n",
      "    return (x,y)\n"
     ],
     "language": "python",
     "metadata": {},
     "outputs": [],
     "prompt_number": 1
    },
    {
     "cell_type": "code",
     "collapsed": false,
     "input": [
      "complex_nums = map(lambda a: 5 * cmath.exp(1j * a), angle)\n",
      "points = [generate_point(c) for c in complex_nums]\n",
      "(x_list,y_list) = get_x_y(points)\n",
      "graph = plot(x_list,y_list, 'go')\n",
      "fig = matplotlib.pyplot.gcf()     # Get's the graph\n",
      "fig.set_size_inches(5,5)          # Make it square"
     ],
     "language": "python",
     "metadata": {},
     "outputs": [
      {
       "output_type": "display_data",
       "png": "[encoded data removed]"
      }
     ],
     "prompt_number": 2
    },
    {
     "cell_type": "code",
     "collapsed": false,
     "input": [],
     "language": "python",
     "metadata": {},
     "outputs": [],
     "prompt_number": 2
    }
   ],
   "metadata": {}
  }
 ]
}