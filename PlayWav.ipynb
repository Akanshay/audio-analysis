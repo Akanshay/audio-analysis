{
 "metadata": {
  "name": "PlayWav"
 },
 "nbformat": 3,
 "nbformat_minor": 0,
 "worksheets": [
  {
   "cells": [
    {
     "cell_type": "code",
     "collapsed": false,
     "input": [
      "from IPython.core.display import HTML, display"
     ],
     "language": "python",
     "metadata": {},
     "outputs": [],
     "prompt_number": 2
    },
    {
     "cell_type": "code",
     "collapsed": false,
     "input": [
      "def show_audio_player(audio_url):\n",
      "    audio_html = \"\"\"\n",
      "    <audio controls>\n",
      "        <source src=\"{0}\" type=\"audio/wav\">\n",
      "        Your browser does not support the audio element.\n",
      "    </audio>\"\"\".format(audio_url)\n",
      "    display(HTML(audio_html))"
     ],
     "language": "python",
     "metadata": {},
     "outputs": [],
     "prompt_number": 3
    },
    {
     "cell_type": "code",
     "collapsed": false,
     "input": [
      "show_audio_player(\"files/audio_files/ohm_scale.wav\")"
     ],
     "language": "python",
     "metadata": {},
     "outputs": [
      {
       "html": [
        "\n",
        "    <audio controls>\n",
        "        <source src=\"files/audio_files/ohm_scale.wav\" type=\"audio/wav\">\n",
        "        Your browser does not support the audio element.\n",
        "    </audio>"
       ],
       "output_type": "display_data",
       "text": [
        "<IPython.core.display.HTML at 0x1043fe710>"
       ]
      }
     ],
     "prompt_number": 4
    },
    {
     "cell_type": "markdown",
     "metadata": {},
     "source": [
      "<audio controls>\n",
      "    <source src=\"files/audio_files/ohm_scale.wav\" type=\"audio/wav\" />\n",
      "        Your browser does not support the audio element.\n",
      "</audio>"
     ]
    },
    {
     "cell_type": "code",
     "collapsed": false,
     "input": [],
     "language": "python",
     "metadata": {},
     "outputs": [],
     "prompt_number": 4
    },
    {
     "cell_type": "code",
     "collapsed": false,
     "input": [],
     "language": "python",
     "metadata": {},
     "outputs": [],
     "prompt_number": 4
    }
   ],
   "metadata": {}
  }
 ]
}