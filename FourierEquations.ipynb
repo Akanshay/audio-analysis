{
 "metadata": {
  "name": "FourierEquations"
 },
 "nbformat": 3,
 "nbformat_minor": 0,
 "worksheets": [
  {
   "cells": [
    {
     "cell_type": "markdown",
     "metadata": {},
     "source": [
      "# Fourier Transform\n",
      "\n",
      "$$G(f) = \\int_{-\\infty}^\\infty g(t) e^{-i 2 \\pi f t} dt$$\n",
      "\n",
      "# Discrete Fourier Transform\n",
      "$$G(\\frac{n}{N}) = \\sum_{k=0}^{N-1} g(k) e^{-i 2 \\pi k \\frac{n}{N} }$$\n",
      "\n",
      "**Meaning**:\n",
      "\n",
      "* $N$ is the total number of samples\n",
      "* $g(k)$ is the kth sample for the time-domain function (i.e. the DFT input)\n",
      "* $G(\\frac{n}{N})$ is the output of the DFT for the frequency that is $\\frac{n}{N}$ cycles per sample; so to get the frequency, you have to multiply $n/N$ by the sample rate.\n",
      "\n",
      "\n",
      "\n",
      "# Euler's Formula\n",
      "$$e^{ix} = \\cos(x) + i \\sin(x)$$\n"
     ]
    },
    {
     "cell_type": "code",
     "collapsed": false,
     "input": [],
     "language": "python",
     "metadata": {},
     "outputs": []
    }
   ],
   "metadata": {}
  }
 ]
}